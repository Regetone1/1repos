{
 "cells": [
  {
   "cell_type": "code",
   "execution_count": 22,
   "id": "afc7233b",
   "metadata": {},
   "outputs": [
    {
     "name": "stdout",
     "output_type": "stream",
     "text": [
      "Pls input integer number > 2: 6\n",
      "[-1 -1 -1  1  1 -1]\n",
      "[ 1  1  1 -1 -1  1]\n",
      "[-1 -1 -1 -1 -1 -1]\n",
      "[-1  1  1  1 -1  1]\n",
      "[-1  1 -1  1  1 -1]\n",
      "[ 1 -1 -1 -1  1 -1]\n"
     ]
    },
    {
     "data": {
      "text/plain": [
       "<matplotlib.image.AxesImage at 0x2484f2db6d0>"
      ]
     },
     "execution_count": 22,
     "metadata": {},
     "output_type": "execute_result"
    },
    {
     "data": {
      "image/png": "[encoded data removed]",
      "text/plain": [
       "<Figure size 432x288 with 1 Axes>"
      ]
     },
     "metadata": {
      "needs_background": "light"
     },
     "output_type": "display_data"
    }
   ],
   "source": [
    "import random\n",
    "import numpy as np\n",
    "from math import exp\n",
    "from matplotlib import pyplot as plt\n",
    "T = 0.8\n",
    "n = int(input('Pls input integer number > 2: '))\n",
    "mtx = []\n",
    "if n <= 2:\n",
    "    print('Read instruction one more time ')\n",
    "else:\n",
    "    for i in range(n):\n",
    "        mtx1 = np.array([random.choice([-1, 1]) for i in range(n)])\n",
    "        print(mtx1)\n",
    "        mtx.append(np.array(mtx1))\n",
    "    E1 = 0\n",
    "    sum1 = 0\n",
    "    sum2 = 0\n",
    "    for i in range(n):\n",
    "        sum1 += (mtx[i][n - 1]) * (mtx[i][0])\n",
    "        for j in range(n - 1):\n",
    "            sum1 += (mtx[i][j] * (mtx[i][j + 1]))\n",
    "    for j in range(n):\n",
    "        sum2 += (mtx[n - 1][j]) * (mtx[0][j])\n",
    "        for i in range(n - 1):\n",
    "            sum2 += (mtx[i][j] * (mtx[i + 1][j]))\n",
    "    E1 = sum1 + sum2\n",
    "\n",
    "for i in range(501):\n",
    "    a = random.randint(0, n - 1)\n",
    "    b = random.randint(0, n - 1)\n",
    "    mtx[a][b] *= -1  \n",
    "    E2 = 0\n",
    "    sum1 = 0\n",
    "    sum2 = 0\n",
    "    for i in range(n):\n",
    "        sum1 += (mtx[i][n - 1]) * (mtx[i][0])\n",
    "        for j in range(n - 1):\n",
    "            sum1 += (mtx[i][j] * (mtx[i][j + 1]))\n",
    "    for j in range(n):\n",
    "        sum2 += (mtx[n - 1][j]) * (mtx[0][j])\n",
    "        for i in range(n - 1):\n",
    "            sum2 += (mtx[i][j] * (mtx[i + 1][j]))\n",
    "    E2 = sum1 + sum2\n",
    "    delta = E2 - E1\n",
    "    if delta <= 0:\n",
    "        E1 = E2 * 1\n",
    "        continue\n",
    "    else:\n",
    "        W = exp((-1 * delta) / T)\n",
    "        P = random.random()\n",
    "        if P <= W:\n",
    "            E1 = E2 * 1\n",
    "            continue\n",
    "        else:\n",
    "            mtx[a][b] *= -1\n",
    "        plt.imshow(mtx)"
   ]
  }
 ],
 "metadata": {
  "kernelspec": {
   "display_name": "Python 3",
   "language": "python",
   "name": "python3"
  },
  "language_info": {
   "codemirror_mode": {
    "name": "ipython",
    "version": 3
   },
   "file_extension": ".py",
   "mimetype": "text/x-python",
   "name": "python",
   "nbconvert_exporter": "python",
   "pygments_lexer": "ipython3",
   "version": "3.8.8"
  }
 },
 "nbformat": 4,
 "nbformat_minor": 5
}
